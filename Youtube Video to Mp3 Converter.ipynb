{
 "cells": [
  {
   "cell_type": "code",
   "execution_count": 1,
   "id": "4e6f2ace-9145-43b9-8268-f2466c79530b",
   "metadata": {},
   "outputs": [],
   "source": [
    "from bs4 import BeautifulSoup"
   ]
  },
  {
   "cell_type": "code",
   "execution_count": 2,
   "id": "98c37911-f4b9-4c97-a17a-53f7e737f884",
   "metadata": {},
   "outputs": [],
   "source": [
    "import requests"
   ]
  },
  {
   "cell_type": "code",
   "execution_count": 3,
   "id": "c32d406f-e22b-43bc-85d3-9dace3b43a15",
   "metadata": {},
   "outputs": [
    {
     "name": "stdout",
     "output_type": "stream",
     "text": [
      "<bound method Response.raise_for_status of <Response [200]>>\n"
     ]
    }
   ],
   "source": [
    "response = requests.get(\"https://www.youtube.com/\")\n",
    "print(response.raise_for_status)"
   ]
  },
  {
   "cell_type": "code",
   "execution_count": 4,
   "id": "b54aede9-061c-447a-9bb2-4ef6e77b153b",
   "metadata": {},
   "outputs": [],
   "source": [
    "import selenium\n",
    "from selenium import webdriver\n",
    "from selenium.webdriver.common.by import By\n",
    "from selenium.webdriver.common.keys import Keys\n",
    "\n",
    "from selenium.webdriver.chrome.service import Service\n",
    "from selenium.webdriver.chrome.options import Options\n",
    "from selenium.webdriver.support.ui import WebDriverWait\n",
    "from selenium.webdriver.support import expected_conditions as EC\n",
    "\n",
    "import time"
   ]
  },
  {
   "cell_type": "code",
   "execution_count": 51,
   "id": "a00eb2d3-3b23-41ef-bb75-9a7cccb2d7a8",
   "metadata": {},
   "outputs": [],
   "source": [
    "def downloaddd():\n",
    "    global tex\n",
    "    tex = text_input.get(\"1.0\", \"end-1c\")\n",
    "    brave_path = r\"C:\\Program Files\\BraveSoftware\\Brave-Browser\\Application\\Brave.exe\"\n",
    "    \n",
    "    options = Options()\n",
    "    options.binary_location = brave_path\n",
    "    options.add_argument(\"--disable-popup-blocking\")\n",
    "    \n",
    "    prefs = {\n",
    "        \"profile.default_content_setting_values.notifications\": 2,  # Block notifications\n",
    "        \"profile.default_content_setting_values.geolocation\": 1,    # Allow location\n",
    "        \"profile.default_content_setting_values.media_stream_camera\": 1,  # Allow camera\n",
    "        \"profile.default_content_setting_values.media_stream_mic\": 1, \n",
    "        \"download.default_directory\": r\"/C:\\Users\\hp\\Downloads\",  # Specify the folder\n",
    "        \"download.prompt_for_download\": False,  # Disable the save dialog\n",
    "        \"download.directory_upgrade\": True,  # Allow automatic downloads\n",
    "        \"safebrowsing.enabled\": True,  \n",
    "    }\n",
    "    options.add_experimental_option(\"prefs\", prefs)\n",
    "    \n",
    "    chromedriver_path = r\"C:/Users/hp/Downloads/chromedriver-win64/chromedriver.exe\"\n",
    "    \n",
    "    service = Service(chromedriver_path)\n",
    "    driver = webdriver.Chrome(service = service, options = options)\n",
    "    \n",
    "    driver.get(\"https://www.youtube.com/\")\n",
    "\n",
    "    search = driver.find_element(By.NAME, \"search_query\")\n",
    "    search.send_keys(f\"{tex}\")\n",
    "    search.send_keys(Keys.ENTER)\n",
    "    \n",
    "    song = WebDriverWait(driver, 10).until(\n",
    "        EC.element_to_be_clickable((By.CSS_SELECTOR, \"a#video-title\"))\n",
    "    )\n",
    "    link = song.get_attribute(\"href\")\n",
    "    print(link)\n",
    "    driver.quit()\n",
    "    \n",
    "    response = requests.get(\"https://www.mp3ify.com/\")\n",
    "    print(response.raise_for_status)\n",
    "    \n",
    "    service = Service(chromedriver_path)\n",
    "    driver = webdriver.Chrome(service = service, options = options)\n",
    "    \n",
    "    driver.get(\"https://y2mate.nu/en-AThQ/\")\n",
    "    input_text = driver.find_element(By.CSS_SELECTOR, \"input[type='text']\")\n",
    "    input_text.send_keys(link)\n",
    "    input_text.send_keys(Keys.ENTER)\n",
    "    \n",
    "    time.sleep(10)\n",
    "    button = driver.find_element(By.XPATH, \"/html/body/form/div[2]/button[1]\")\n",
    "    time.sleep(5)\n",
    "    button.click()\n",
    "    time.sleep(7)\n",
    "    \n",
    "    driver.quit()"
   ]
  },
  {
   "cell_type": "code",
   "execution_count": 52,
   "id": "6eb9204e-9556-4dd3-9104-a6fb6006d6f0",
   "metadata": {},
   "outputs": [
    {
     "name": "stdout",
     "output_type": "stream",
     "text": [
      "https://www.youtube.com/watch?v=_kUrW9SEaJc&pp=ygULU2FnZSByaXR2aXo%3D\n",
      "<bound method Response.raise_for_status of <Response [200]>>\n"
     ]
    }
   ],
   "source": [
    "import tkinter\n",
    "from PIL import Image, ImageTk\n",
    "\n",
    "window = tkinter.Tk()\n",
    "window.minsize(height = 300, width = 300)\n",
    "window.config(bg = \"white\")\n",
    "window.title(\"Youtube Video to Mp3 Downloader\")\n",
    "\n",
    "YT_path = r\"C:\\Users\\hp\\Downloads\\Youtube.jpg\"\n",
    "YT = Image.open(YT_path)\n",
    "YT = YT.resize((200, 200))  \n",
    "YouTube = ImageTk.PhotoImage(YT)\n",
    "\n",
    "label = tkinter.Label(image=YouTube)\n",
    "label.grid(row = 1, column = 1, columnspan = 2, padx = 10, pady = 10)\n",
    "\n",
    "text = tkinter.Label()\n",
    "text.config(text = \"Enter the name \\n of the song: \", font = (\"Helvetica\", 11, \"normal\"), bg = \"white\")\n",
    "text.grid(row = 2, column = 1, padx = 10, pady = 10)\n",
    "\n",
    "text_input = tkinter.Text()\n",
    "text_input.config(height = 2, width = 20)\n",
    "text_input.grid(row = 2, column = 2, padx = 10, pady = 10)\n",
    "\n",
    "dl = tkinter.Button(command = downloaddd)\n",
    "dl.config(text = \"Download\", font = (\"Helvetica\", 11, \"bold\"), bg = \"white\", highlightbackground = \"black\")\n",
    "dl.grid(row = 3, column = 1, columnspan = 2, padx = 10, pady = 10)\n",
    "\n",
    "window.mainloop()"
   ]
  },
  {
   "cell_type": "code",
   "execution_count": 48,
   "id": "dfccd2f9-92c9-4e30-8a1f-5c4ad50cae45",
   "metadata": {},
   "outputs": [
    {
     "name": "stdout",
     "output_type": "stream",
     "text": [
      "https://www.youtube.com/watch?v=rgM5VGYToQQ&pp=ygUEU2FnZQ%3D%3D\n",
      "<bound method Response.raise_for_status of <Response [200]>>\n"
     ]
    },
    {
     "ename": "NoSuchElementException",
     "evalue": "Message: no such element: Unable to locate element: {\"method\":\"xpath\",\"selector\":\"/html/body/form/div[2]/button[1]\"}\n  (Session info: chrome=131.0.6778.139); For documentation on this error, please visit: https://www.selenium.dev/documentation/webdriver/troubleshooting/errors#no-such-element-exception\nStacktrace:\n\tGetHandleVerifier [0x00007FF775B52775+28773]\n\t(No symbol) [0x00007FF775ABAFB0]\n\t(No symbol) [0x00007FF77595552A]\n\t(No symbol) [0x00007FF7759A8EAE]\n\t(No symbol) [0x00007FF7759A919C]\n\t(No symbol) [0x00007FF7759F23F7]\n\t(No symbol) [0x00007FF7759CEFDF]\n\t(No symbol) [0x00007FF7759EF1A4]\n\t(No symbol) [0x00007FF7759CED43]\n\t(No symbol) [0x00007FF77599A548]\n\t(No symbol) [0x00007FF77599B6B1]\n\tGetHandleVerifier [0x00007FF775E7F45D+3358029]\n\tGetHandleVerifier [0x00007FF775E9430D+3443709]\n\tGetHandleVerifier [0x00007FF775E883FD+3394797]\n\tGetHandleVerifier [0x00007FF775C1929B+842635]\n\t(No symbol) [0x00007FF775AC654F]\n\t(No symbol) [0x00007FF775AC1FA4]\n\t(No symbol) [0x00007FF775AC213D]\n\t(No symbol) [0x00007FF775AB1629]\n\tBaseThreadInitThunk [0x00007FFA8C0D259D+29]\n\tRtlUserThreadStart [0x00007FFA8E32AF38+40]\n",
     "output_type": "error",
     "traceback": [
      "\u001b[1;31m---------------------------------------------------------------------------\u001b[0m",
      "\u001b[1;31mNoSuchElementException\u001b[0m                    Traceback (most recent call last)",
      "Cell \u001b[1;32mIn[48], line 49\u001b[0m\n\u001b[0;32m     46\u001b[0m input_text\u001b[38;5;241m.\u001b[39msend_keys(Keys\u001b[38;5;241m.\u001b[39mENTER)\n\u001b[0;32m     48\u001b[0m time\u001b[38;5;241m.\u001b[39msleep(\u001b[38;5;241m10\u001b[39m)\n\u001b[1;32m---> 49\u001b[0m button \u001b[38;5;241m=\u001b[39m \u001b[43mdriver\u001b[49m\u001b[38;5;241;43m.\u001b[39;49m\u001b[43mfind_element\u001b[49m\u001b[43m(\u001b[49m\u001b[43mBy\u001b[49m\u001b[38;5;241;43m.\u001b[39;49m\u001b[43mXPATH\u001b[49m\u001b[43m,\u001b[49m\u001b[43m \u001b[49m\u001b[38;5;124;43m\"\u001b[39;49m\u001b[38;5;124;43m/html/body/form/div[2]/button[1]\u001b[39;49m\u001b[38;5;124;43m\"\u001b[39;49m\u001b[43m)\u001b[49m\n\u001b[0;32m     50\u001b[0m time\u001b[38;5;241m.\u001b[39msleep(\u001b[38;5;241m5\u001b[39m)\n\u001b[0;32m     51\u001b[0m button\u001b[38;5;241m.\u001b[39mclick()\n",
      "File \u001b[1;32m~\\AppData\\Local\\Programs\\Python\\Python312\\Lib\\site-packages\\selenium\\webdriver\\remote\\webdriver.py:770\u001b[0m, in \u001b[0;36mWebDriver.find_element\u001b[1;34m(self, by, value)\u001b[0m\n\u001b[0;32m    767\u001b[0m         \u001b[38;5;28;01mraise\u001b[39;00m NoSuchElementException(\u001b[38;5;124mf\u001b[39m\u001b[38;5;124m\"\u001b[39m\u001b[38;5;124mCannot locate relative element with: \u001b[39m\u001b[38;5;132;01m{\u001b[39;00mby\u001b[38;5;241m.\u001b[39mroot\u001b[38;5;132;01m}\u001b[39;00m\u001b[38;5;124m\"\u001b[39m)\n\u001b[0;32m    768\u001b[0m     \u001b[38;5;28;01mreturn\u001b[39;00m elements[\u001b[38;5;241m0\u001b[39m]\n\u001b[1;32m--> 770\u001b[0m \u001b[38;5;28;01mreturn\u001b[39;00m \u001b[38;5;28;43mself\u001b[39;49m\u001b[38;5;241;43m.\u001b[39;49m\u001b[43mexecute\u001b[49m\u001b[43m(\u001b[49m\u001b[43mCommand\u001b[49m\u001b[38;5;241;43m.\u001b[39;49m\u001b[43mFIND_ELEMENT\u001b[49m\u001b[43m,\u001b[49m\u001b[43m \u001b[49m\u001b[43m{\u001b[49m\u001b[38;5;124;43m\"\u001b[39;49m\u001b[38;5;124;43musing\u001b[39;49m\u001b[38;5;124;43m\"\u001b[39;49m\u001b[43m:\u001b[49m\u001b[43m \u001b[49m\u001b[43mby\u001b[49m\u001b[43m,\u001b[49m\u001b[43m \u001b[49m\u001b[38;5;124;43m\"\u001b[39;49m\u001b[38;5;124;43mvalue\u001b[39;49m\u001b[38;5;124;43m\"\u001b[39;49m\u001b[43m:\u001b[49m\u001b[43m \u001b[49m\u001b[43mvalue\u001b[49m\u001b[43m}\u001b[49m\u001b[43m)\u001b[49m[\u001b[38;5;124m\"\u001b[39m\u001b[38;5;124mvalue\u001b[39m\u001b[38;5;124m\"\u001b[39m]\n",
      "File \u001b[1;32m~\\AppData\\Local\\Programs\\Python\\Python312\\Lib\\site-packages\\selenium\\webdriver\\remote\\webdriver.py:384\u001b[0m, in \u001b[0;36mWebDriver.execute\u001b[1;34m(self, driver_command, params)\u001b[0m\n\u001b[0;32m    382\u001b[0m response \u001b[38;5;241m=\u001b[39m \u001b[38;5;28mself\u001b[39m\u001b[38;5;241m.\u001b[39mcommand_executor\u001b[38;5;241m.\u001b[39mexecute(driver_command, params)\n\u001b[0;32m    383\u001b[0m \u001b[38;5;28;01mif\u001b[39;00m response:\n\u001b[1;32m--> 384\u001b[0m     \u001b[38;5;28;43mself\u001b[39;49m\u001b[38;5;241;43m.\u001b[39;49m\u001b[43merror_handler\u001b[49m\u001b[38;5;241;43m.\u001b[39;49m\u001b[43mcheck_response\u001b[49m\u001b[43m(\u001b[49m\u001b[43mresponse\u001b[49m\u001b[43m)\u001b[49m\n\u001b[0;32m    385\u001b[0m     response[\u001b[38;5;124m\"\u001b[39m\u001b[38;5;124mvalue\u001b[39m\u001b[38;5;124m\"\u001b[39m] \u001b[38;5;241m=\u001b[39m \u001b[38;5;28mself\u001b[39m\u001b[38;5;241m.\u001b[39m_unwrap_value(response\u001b[38;5;241m.\u001b[39mget(\u001b[38;5;124m\"\u001b[39m\u001b[38;5;124mvalue\u001b[39m\u001b[38;5;124m\"\u001b[39m, \u001b[38;5;28;01mNone\u001b[39;00m))\n\u001b[0;32m    386\u001b[0m     \u001b[38;5;28;01mreturn\u001b[39;00m response\n",
      "File \u001b[1;32m~\\AppData\\Local\\Programs\\Python\\Python312\\Lib\\site-packages\\selenium\\webdriver\\remote\\errorhandler.py:232\u001b[0m, in \u001b[0;36mErrorHandler.check_response\u001b[1;34m(self, response)\u001b[0m\n\u001b[0;32m    230\u001b[0m         alert_text \u001b[38;5;241m=\u001b[39m value[\u001b[38;5;124m\"\u001b[39m\u001b[38;5;124malert\u001b[39m\u001b[38;5;124m\"\u001b[39m]\u001b[38;5;241m.\u001b[39mget(\u001b[38;5;124m\"\u001b[39m\u001b[38;5;124mtext\u001b[39m\u001b[38;5;124m\"\u001b[39m)\n\u001b[0;32m    231\u001b[0m     \u001b[38;5;28;01mraise\u001b[39;00m exception_class(message, screen, stacktrace, alert_text)  \u001b[38;5;66;03m# type: ignore[call-arg]  # mypy is not smart enough here\u001b[39;00m\n\u001b[1;32m--> 232\u001b[0m \u001b[38;5;28;01mraise\u001b[39;00m exception_class(message, screen, stacktrace)\n",
      "\u001b[1;31mNoSuchElementException\u001b[0m: Message: no such element: Unable to locate element: {\"method\":\"xpath\",\"selector\":\"/html/body/form/div[2]/button[1]\"}\n  (Session info: chrome=131.0.6778.139); For documentation on this error, please visit: https://www.selenium.dev/documentation/webdriver/troubleshooting/errors#no-such-element-exception\nStacktrace:\n\tGetHandleVerifier [0x00007FF775B52775+28773]\n\t(No symbol) [0x00007FF775ABAFB0]\n\t(No symbol) [0x00007FF77595552A]\n\t(No symbol) [0x00007FF7759A8EAE]\n\t(No symbol) [0x00007FF7759A919C]\n\t(No symbol) [0x00007FF7759F23F7]\n\t(No symbol) [0x00007FF7759CEFDF]\n\t(No symbol) [0x00007FF7759EF1A4]\n\t(No symbol) [0x00007FF7759CED43]\n\t(No symbol) [0x00007FF77599A548]\n\t(No symbol) [0x00007FF77599B6B1]\n\tGetHandleVerifier [0x00007FF775E7F45D+3358029]\n\tGetHandleVerifier [0x00007FF775E9430D+3443709]\n\tGetHandleVerifier [0x00007FF775E883FD+3394797]\n\tGetHandleVerifier [0x00007FF775C1929B+842635]\n\t(No symbol) [0x00007FF775AC654F]\n\t(No symbol) [0x00007FF775AC1FA4]\n\t(No symbol) [0x00007FF775AC213D]\n\t(No symbol) [0x00007FF775AB1629]\n\tBaseThreadInitThunk [0x00007FFA8C0D259D+29]\n\tRtlUserThreadStart [0x00007FFA8E32AF38+40]\n"
     ]
    }
   ],
   "source": [
    "brave_path = r\"C:\\Program Files\\BraveSoftware\\Brave-Browser\\Application\\Brave.exe\"\n",
    "    \n",
    "options = Options()\n",
    "options.binary_location = brave_path\n",
    "options.add_argument(\"--disable-popup-blocking\")\n",
    "\n",
    "prefs = {\n",
    "    \"profile.default_content_setting_values.notifications\": 2,  # Block notifications\n",
    "    \"profile.default_content_setting_values.geolocation\": 1,    # Allow location\n",
    "    \"profile.default_content_setting_values.media_stream_camera\": 1,  # Allow camera\n",
    "    \"profile.default_content_setting_values.media_stream_mic\": 1, \n",
    "    \"download.default_directory\": r\"/C:\\Users\\hp\\Downloads\",  # Specify the folder\n",
    "    \"download.prompt_for_download\": False,  # Disable the save dialog\n",
    "    \"download.directory_upgrade\": True,  # Allow automatic downloads\n",
    "    \"safebrowsing.enabled\": True,  \n",
    "}\n",
    "options.add_experimental_option(\"prefs\", prefs)\n",
    "\n",
    "chromedriver_path = r\"C:/Users/hp/Downloads/chromedriver-win64/chromedriver.exe\"\n",
    "\n",
    "service = Service(chromedriver_path)\n",
    "driver = webdriver.Chrome(service = service, options = options)\n",
    "\n",
    "driver.get(\"https://www.youtube.com/\")\n",
    "\n",
    "search = driver.find_element(By.NAME, \"search_query\")\n",
    "search.send_keys(f\"{tex}\")\n",
    "search.send_keys(Keys.ENTER)\n",
    "\n",
    "song = WebDriverWait(driver, 10).until(\n",
    "    EC.element_to_be_clickable((By.CSS_SELECTOR, \"a#video-title\"))\n",
    ")\n",
    "link = song.get_attribute(\"href\")\n",
    "print(link)\n",
    "driver.quit()\n",
    "\n",
    "response = requests.get(\"https://www.mp3ify.com/\")\n",
    "print(response.raise_for_status)\n",
    "\n",
    "service = Service(chromedriver_path)\n",
    "driver = webdriver.Chrome(service = service, options = options)\n",
    "\n",
    "driver.get(\"https://y2mate.nu/en-AThQ/\")\n",
    "input_text = driver.find_element(By.CSS_SELECTOR, \"input[type='text']\")\n",
    "input_text.send_keys(link)\n",
    "input_text.send_keys(Keys.ENTER)\n",
    "\n",
    "time.sleep(15)\n",
    "button = driver.find_element(By.XPATH, \"/html/body/form/div[2]/button[1]\")\n",
    "time.sleep(5)\n",
    "button.click()\n",
    "time.sleep(7)\n",
    "\n",
    "driver.quit()"
   ]
  },
  {
   "cell_type": "code",
   "execution_count": null,
   "id": "f3c4b4a6-270f-4b34-96b4-a865f013c2bc",
   "metadata": {},
   "outputs": [],
   "source": []
  }
 ],
 "metadata": {
  "kernelspec": {
   "display_name": "Python 3 (ipykernel)",
   "language": "python",
   "name": "python3"
  },
  "language_info": {
   "codemirror_mode": {
    "name": "ipython",
    "version": 3
   },
   "file_extension": ".py",
   "mimetype": "text/x-python",
   "name": "python",
   "nbconvert_exporter": "python",
   "pygments_lexer": "ipython3",
   "version": "3.12.6"
  }
 },
 "nbformat": 4,
 "nbformat_minor": 5
}
